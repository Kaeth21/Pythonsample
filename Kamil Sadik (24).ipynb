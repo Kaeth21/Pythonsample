{
 "cells": [
  {
   "attachments": {},
   "cell_type": "markdown",
   "metadata": {},
   "source": [
    "### QS 3\n",
    "\n",
    "Varför behöver vi flödeskontroll när vi programmerar (if-statements, loopar)? Förklara med ord och kod.\n",
    "\n",
    "#### Response \n",
    "Flow control, such as if-statements and loops, is essential in python as it allows us to control the execution of code based on certain conditions or repeat a block of code multiple times. \n",
    "\n",
    "Here's an example of flow control:\n",
    "\n"
   ]
  },
  {
   "cell_type": "code",
   "execution_count": 41,
   "metadata": {},
   "outputs": [
    {
     "name": "stdout",
     "output_type": "stream",
     "text": [
      "You are eligible to vote.\n",
      "apple\n",
      "banana\n",
      "orange\n"
     ]
    }
   ],
   "source": [
    "# Skriv här\n",
    "\n",
    "# 1 - if statement example \n",
    "\n",
    "# the below code tells us if a user is eligible or not to vote based on age \n",
    "age = 20\n",
    "\n",
    "if age >= 18: # this is the condition that is used to control the execution \n",
    "    print(\"You are eligible to vote.\")\n",
    "else:\n",
    "    print(\"You are not eligible to vote.\")\n",
    "\n",
    "# 2 - For loop example:\n",
    "# the below code prints all the elements on the list named fruit \n",
    "fruits = [\"apple\", \"banana\", \"orange\"]\n",
    "\n",
    "for x in fruits:\n",
    "    print(x)\n"
   ]
  }
 ],
 "metadata": {
  "kernelspec": {
   "display_name": "venv",
   "language": "python",
   "name": "python3"
  },
  "language_info": {
   "codemirror_mode": {
    "name": "ipython",
    "version": 3
   },
   "file_extension": ".py",
   "mimetype": "text/x-python",
   "name": "python",
   "nbconvert_exporter": "python",
   "pygments_lexer": "ipython3",
   "version": "3.11.3"
  },
  "orig_nbformat": 4
 },
 "nbformat": 4,
 "nbformat_minor": 2
}
